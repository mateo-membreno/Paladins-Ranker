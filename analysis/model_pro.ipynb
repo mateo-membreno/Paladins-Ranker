{
 "cells": [
  {
   "cell_type": "markdown",
   "metadata": {},
   "source": [
    "only difference here is the database i'm using \n",
    "paladins1.db has the pro games on it"
   ]
  },
  {
   "cell_type": "code",
   "execution_count": 10,
   "metadata": {},
   "outputs": [
    {
     "name": "stdout",
     "output_type": "stream",
     "text": [
      "           username  champ_level  k   d   a  credits  cpm  result  damage  \\\n",
      "0       ChaseTheMVP           54  4   4   4     2145  215       0   32176   \n",
      "1            Junivs           60  4  13  13     3181  318       0   27839   \n",
      "2        Meatloafzz           47  2   4   4     1810  181       0   23771   \n",
      "3           Stievex           57  7   3   3     1937  194       0   47813   \n",
      "4         z1unknown           58  1   1   1     1323  132       0   18321   \n",
      "...             ...          ... ..  ..  ..      ...  ...     ...     ...   \n",
      "6408       AlliWant           59  6   7   7     2561  233       0   58836   \n",
      "6409         Mizzza           59  1   1   1     1515  138       0   16096   \n",
      "6410    PokeRob1498           51  3   5   5     2477  225       0   35032   \n",
      "6411        Supadog           56  7   8   8     3184  289       0   51504   \n",
      "6412  monsterlaurbr           60  4   3   3     2113  192       0   43558   \n",
      "\n",
      "      weapon  ...  champion_Unknown  champion_VII  champion_Vatu  \\\n",
      "0      18510  ...                 0             0              0   \n",
      "1      20640  ...                 0             0              0   \n",
      "2      22951  ...                 0             0              0   \n",
      "3      27536  ...                 0             0              0   \n",
      "4      16646  ...                 0             0              0   \n",
      "...      ...  ...               ...           ...            ...   \n",
      "6408   21189  ...                 0             0              0   \n",
      "6409   12884  ...                 0             0              0   \n",
      "6410   35032  ...                 0             0              0   \n",
      "6411   30654  ...                 0             0              0   \n",
      "6412   28209  ...                 0             0              0   \n",
      "\n",
      "      champion_Viktor champion_Vivian champion_Vora  champion_Willo  \\\n",
      "0                   0               0             0               0   \n",
      "1                   0               0             0               0   \n",
      "2                   0               0             0               0   \n",
      "3                   0               0             1               0   \n",
      "4                   0               0             0               0   \n",
      "...               ...             ...           ...             ...   \n",
      "6408                0               0             0               0   \n",
      "6409                0               0             0               0   \n",
      "6410                0               0             0               0   \n",
      "6411                0               0             0               0   \n",
      "6412                0               0             0               0   \n",
      "\n",
      "      champion_Yagorath  champion_Ying  champion_Zhin  \n",
      "0                     0              0              0  \n",
      "1                     0              0              0  \n",
      "2                     0              0              0  \n",
      "3                     0              0              0  \n",
      "4                     0              0              0  \n",
      "...                 ...            ...            ...  \n",
      "6408                  0              0              0  \n",
      "6409                  0              0              0  \n",
      "6410                  0              0              0  \n",
      "6411                  0              0              0  \n",
      "6412                  0              0              0  \n",
      "\n",
      "[6413 rows x 75 columns]\n"
     ]
    }
   ],
   "source": [
    "import pandas as pd\n",
    "import sqlite3 as sq\n",
    "from sklearn.model_selection import train_test_split\n",
    "\n",
    "\n",
    "conn = sq.connect(\"../paladins1.db\")\n",
    "\n",
    "df = pd.read_sql_query(\"SELECT * FROM match\", conn)\n",
    "\n",
    "df[\"result\"] = df[\"result\"].apply(lambda x: 0 if x == 'L' else 1)\n",
    "\n",
    "df = pd.get_dummies(df, columns=[\"champion\"], dtype=int)\n",
    "\n",
    "print(df)"
   ]
  },
  {
   "cell_type": "code",
   "execution_count": 11,
   "metadata": {},
   "outputs": [],
   "source": [
    "champion_cols = [col for col in df.columns if col.startswith(\"champion_\")]\n",
    "agg_dict = {col: 'sum' for col in champion_cols}\n",
    "agg_dict.update({\"result\" : \"first\", \"match_id\" : \"first\"})\n",
    "\n",
    "df = df.groupby([\"match_id\", \"result\"], as_index=False).agg(agg_dict).reset_index()\n",
    "\n",
    "X = df[champion_cols]\n",
    "y = df[\"result\"]\n",
    "\n",
    "X_train, X_test, y_train, y_test = train_test_split(X, y, test_size=0.2, random_state=42)"
   ]
  }
 ],
 "metadata": {
  "kernelspec": {
   "display_name": "env",
   "language": "python",
   "name": "python3"
  },
  "language_info": {
   "codemirror_mode": {
    "name": "ipython",
    "version": 3
   },
   "file_extension": ".py",
   "mimetype": "text/x-python",
   "name": "python",
   "nbconvert_exporter": "python",
   "pygments_lexer": "ipython3",
   "version": "3.11.9"
  }
 },
 "nbformat": 4,
 "nbformat_minor": 2
}
