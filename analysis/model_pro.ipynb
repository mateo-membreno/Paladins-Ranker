{
 "cells": [
  {
   "cell_type": "markdown",
   "metadata": {},
   "source": [
    "only difference here is the database i'm using \n",
    "paladins1.db has the pro games on it"
   ]
  },
  {
   "cell_type": "code",
   "execution_count": null,
   "metadata": {},
   "outputs": [
    {
     "name": "stdout",
     "output_type": "stream",
     "text": [
      "Empty DataFrame\n",
      "Columns: [username, champ_level, k, d, a, credits, cpm, result, champion, damage, weapon, healing, self_heal, taken, shielding, map, match_id]\n",
      "Index: []\n"
     ]
    }
   ],
   "source": [
    "import pandas as pd\n",
    "import sqlite3 as sq\n",
    "from sklearn.model_selection import train_test_split\n",
    "\n",
    "\n",
    "conn = sq.connect(\"../paladins1.db\")\n",
    "\n",
    "df = pd.read_sql_query(\"SELECT * FROM match\", conn)\n",
    "\n",
    "df[\"result\"] = df[\"result\"].apply(lambda x: 0 if x == 'L' else 1)\n",
    "\n",
    "df = pd.get_dummies(df, columns=[\"champion\"], dtype=int)\n",
    "\n"
   ]
  },
  {
   "cell_type": "code",
   "execution_count": null,
   "metadata": {},
   "outputs": [],
   "source": [
    "champion_cols = [col for col in df.columns if col.startswith(\"champion_\")]\n",
    "agg_dict = {col: 'sum' for col in champion_cols}\n",
    "agg_dict.update({\"result\" : \"first\", \"match_id\" : \"first\"})\n",
    "\n",
    "df = df.groupby([\"match_id\", \"result\"], as_index=False).agg(agg_dict).reset_index()\n",
    "\n",
    "X = df[champion_cols]\n",
    "y = df[\"result\"]\n",
    "\n",
    "X_train, X_test, y_train, y_test = train_test_split(X, y, test_size=0.2, random_state=42)"
   ]
  },
  {
   "cell_type": "code",
   "execution_count": null,
   "metadata": {},
   "outputs": [],
   "source": [
    "import numpy as np\n",
    "import matplotlib.pyplot as plt\n",
    "import tensorflow as tf\n",
    "from keras import layers\n",
    "\n",
    "model = tf.keras.Sequential([\n",
    "    layers.Dense(64, activation='relu', input_dim=X_train.shape[1]),\n",
    "    layers.Dropout(0.3),                                            \n",
    "    layers.Dense(32, activation='relu'),                            \n",
    "    layers.Dense(1, activation='sigmoid')                            \n",
    "])\n",
    "\n",
    "model.compile(optimizer='adam', \n",
    "              loss='binary_crossentropy', \n",
    "              metrics=['accuracy'])\n",
    "\n",
    "history = model.fit(X_train, y_train, \n",
    "                    epochs=50, \n",
    "                    batch_size=32, \n",
    "                    validation_split=0.2, \n",
    "                    verbose=1)"
   ]
  },
  {
   "cell_type": "code",
   "execution_count": null,
   "metadata": {},
   "outputs": [],
   "source": [
    "\n",
    "loss, accuracy = model.evaluate(X_test, y_test)\n",
    "print(f\"Test Accuracy: {accuracy:.2f}\")\n",
    "\n",
    "y_pred_proba = model.predict(X_test)\n",
    "print(f\"Predict accuracy: {y_pred_proba}\")\n",
    "\n",
    "loss = history.history[\"loss\"]\n",
    "plt.plot(np.arange(1,len(loss)+1),loss, label=\"loss\")\n",
    "val_loss = history.history[\"val_loss\"]\n",
    "plt.plot(np.arange(1,len(val_loss)+1),val_loss, label=\"val_loss\")\n",
    "plt.legend()"
   ]
  }
 ],
 "metadata": {
  "kernelspec": {
   "display_name": "env",
   "language": "python",
   "name": "python3"
  },
  "language_info": {
   "codemirror_mode": {
    "name": "ipython",
    "version": 3
   },
   "file_extension": ".py",
   "mimetype": "text/x-python",
   "name": "python",
   "nbconvert_exporter": "python",
   "pygments_lexer": "ipython3",
   "version": "3.11.9"
  }
 },
 "nbformat": 4,
 "nbformat_minor": 2
}
